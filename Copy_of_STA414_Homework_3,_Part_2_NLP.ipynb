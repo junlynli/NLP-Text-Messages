{
  "nbformat": 4,
  "nbformat_minor": 0,
  "metadata": {
    "colab": {
      "name": "Copy of STA414 Homework 3, Part 2: NLP.ipynb",
      "provenance": [],
      "collapsed_sections": [
        "MWyKRONCVFYD"
      ],
      "include_colab_link": true
    },
    "kernelspec": {
      "name": "python3",
      "display_name": "Python 3"
    },
    "language_info": {
      "name": "python"
    }
  },
  "cells": [
    {
      "cell_type": "markdown",
      "metadata": {
        "id": "view-in-github",
        "colab_type": "text"
      },
      "source": [
        "<a href=\"https://colab.research.google.com/github/junlynli/NLP_Text_Messages/blob/main/Copy_of_STA414_Homework_3%2C_Part_2_NLP.ipynb\" target=\"_parent\"><img src=\"https://colab.research.google.com/assets/colab-badge.svg\" alt=\"Open In Colab\"/></a>"
      ]
    },
    {
      "cell_type": "markdown",
      "source": [
        "# Changelog:\n",
        "\n",
        "Last Update: 2022-03-20\n",
        "\n",
        "Changes:\n",
        "\n",
        "1. token_to_index returns `vocab[token]`\n",
        "2. Improve doscstring for `create_vocab`"
      ],
      "metadata": {
        "id": "ZBQjOo49-ilX"
      }
    },
    {
      "cell_type": "markdown",
      "source": [
        "# Question 2: Natural Language Processing\n",
        "\n",
        "### Total Points: 46\n",
        "\n",
        "### Background:\n",
        "In this question you will fit a set of models with the goal of predicting which text messages (SMS) are spam and which are not. \n",
        "\n",
        "You will be experimenting with a variety of different embedding algorithms followed by Logistic Regression."
      ],
      "metadata": {
        "id": "q84Rhsk6FOWx"
      }
    },
    {
      "cell_type": "code",
      "source": [
        "!pip install datasets\n",
        "!python -m spacy download en_core_web_md\n",
        "!pip install transformers"
      ],
      "metadata": {
        "id": "-_9JVHlrC4sg"
      },
      "execution_count": null,
      "outputs": []
    },
    {
      "cell_type": "markdown",
      "source": [
        "## Data Loading, Exploratory Data Analysis and Vocabulary Creation:\n"
      ],
      "metadata": {
        "id": "9mbhj24iFMEJ"
      }
    },
    {
      "cell_type": "code",
      "execution_count": null,
      "metadata": {
        "id": "zDe_6kaRCfWs"
      },
      "outputs": [],
      "source": [
        "from datasets import load_dataset\n",
        "from sklearn.model_selection import train_test_split\n",
        "from sklearn.feature_extraction.text import CountVectorizer, TfidfVectorizer, TfidfTransformer\n",
        "from typing import List\n",
        "import numpy as np \n",
        "import pandas as pd\n",
        "from tqdm import tqdm\n",
        "import torch\n",
        "np.random.seed(42)"
      ]
    },
    {
      "cell_type": "code",
      "source": [
        "dataset = load_dataset(\"sms_spam\")\n",
        "texts = [x[\"sms\"] for x in dataset[\"train\"]]\n",
        "labels = [x[\"label\"] for x in dataset[\"train\"]]\n",
        "print(labels)"
      ],
      "metadata": {
        "id": "Z-YrzSxEC2Hq"
      },
      "execution_count": null,
      "outputs": []
    },
    {
      "cell_type": "code",
      "source": [
        "X_train, X_m, y_train, y_m = train_test_split(texts, labels, test_size=0.3, random_state=0)\n",
        "X_val, X_test, y_val, y_test = train_test_split(X_m, y_m, test_size = 0.5, random_state=0)"
      ],
      "metadata": {
        "id": "X523_TcvC_4S"
      },
      "execution_count": null,
      "outputs": []
    },
    {
      "cell_type": "code",
      "source": [
        "def tokenize(x:str) -> List[str]:\n",
        "  \"\"\"\n",
        "  Takes string as an input and returns a list of tokens. This just splits the string x on whitespace\n",
        "  \"\"\"\n",
        "  return x.lower().split(\" \")"
      ],
      "metadata": {
        "id": "4-MHbxEmE2Hr"
      },
      "execution_count": null,
      "outputs": []
    },
    {
      "cell_type": "markdown",
      "source": [
        "##[ 5 points ] Q2.a: Determine / Answer the following: \n",
        "\n",
        "*   How many datapoints are in the training set?\n",
        "*   How many total tokens are there in the data?\n",
        "*   What % of training examples are spam?\n",
        "*   What would the accuracy be if for every datapoint we predict it is spam? (explain)\n",
        "\n",
        "\n",
        "\n"
      ],
      "metadata": {
        "id": "MWyKRONCVFYD"
      }
    },
    {
      "cell_type": "code",
      "source": [
        "# number of datapoints in the training set \n",
        "print('Number of datapoints in the training set: {}'.format(len(X_train)))\n",
        "# number of total tokens in the data\n",
        "tokens = []\n",
        "for i in texts:\n",
        "  tokens.extend(tokenize(i))\n",
        "print('Number of total tokens in the data: {}'.format(len(tokens)))\n",
        "print('Number of total (distinct) tokens in the data: {}'.format(len(set(tokens))))\n",
        "# % of training examples being spam\n",
        "print('% of training examples being spam: {}'.format(len([y for y in y_train if y == 1])/len(y_train)*100))"
      ],
      "metadata": {
        "id": "FMv85szFDEnx",
        "colab": {
          "base_uri": "https://localhost:8080/"
        },
        "outputId": "e6858d09-9211-4b50-f424-b2901e66fdf7"
      },
      "execution_count": null,
      "outputs": [
        {
          "output_type": "stream",
          "name": "stdout",
          "text": [
            "Number of datapoints in the training set: 3901\n",
            "Number of total tokens in the data: 87535\n",
            "Number of total (distinct) tokens in the data: 14856\n",
            "% of training examples being spam: 12.945398615739553\n"
          ]
        }
      ]
    },
    {
      "cell_type": "markdown",
      "source": [
        "We calculated above that approximately 13% of the training examples are labeled as spam. Then if we were to predict all the datapoints in the training set as spam, we would only have a 13% accuracy as it is the % of the correctly labeled datapoints. "
      ],
      "metadata": {
        "id": "6RO54TszMH1S"
      }
    },
    {
      "cell_type": "markdown",
      "source": [
        "##[4 points ] Q2.b Vocabulary and Frequencies  "
      ],
      "metadata": {
        "id": "nS6ufPCtGwQp"
      }
    },
    {
      "cell_type": "markdown",
      "source": [
        "Implement the functions `create_count_dict`, and `create_vocab` below that take as input a dataset (list of untokenized strings - one per datapoint), and an integer representing the desired vocabulary size, and returns the vocabulary as a `dict` whose keys are tokens and whose values are indices."
      ],
      "metadata": {
        "id": "jyKQsSieGzDk"
      }
    },
    {
      "cell_type": "code",
      "source": [
        "def create_count_dict(dataset:List[str]) -> dict:\n",
        "  \"\"\"\n",
        "  Given a dataset, returns a dictionary of token counts with tokens being keys, and counts being values\n",
        "  \"\"\"\n",
        "  count_dict = {}\n",
        "  # tokenize the texts\n",
        "  tokens = []\n",
        "  for i in dataset:\n",
        "    tokens.extend(tokenize(i))\n",
        "  #store the counts\n",
        "  for token in tokens:\n",
        "    if token not in count_dict.keys():\n",
        "      count_dict[token] = 1\n",
        "    else:\n",
        "      count_dict[token] += 1\n",
        "\n",
        "  return count_dict\n",
        "\n",
        "def create_vocab(dataset:List[str], vocab_size:int) -> dict:\n",
        "  \"\"\"\n",
        "  Given a dataset, returns a dictionary with tokens as keys and indices as values.\n",
        "\n",
        "  {\"most_common_token\": 0, \"second_most_common_token\": 1, ...}\n",
        "  \"\"\"\n",
        "  # 1. Determine the count of all words\n",
        "  count = create_count_dict(dataset)\n",
        "  # 2. Keep the top <vocab_size> tokens\n",
        "  sorted_tokens = sorted(count.items(), key=lambda x: x[1], reverse=True)[:vocab_size]\n",
        "  sorted_tokens = dict(sorted_tokens)\n",
        "  # 3. Create the token to index dict and fill it with just the top tokens\n",
        "  vocab_to_index_dict = {}\n",
        "  index = 0\n",
        "  for token in sorted_tokens.keys():\n",
        "    vocab_to_index_dict[token] = index\n",
        "    index += 1\n",
        "  \n",
        "  return vocab_to_index_dict"
      ],
      "metadata": {
        "id": "ACy4z8-oGSEp"
      },
      "execution_count": null,
      "outputs": []
    },
    {
      "cell_type": "code",
      "source": [
        "# Helper test to at least ensure the constructed vocab is the right size\n",
        "for i in np.random.randint(low = 100, high = 500, size = 5):\n",
        "  assert(len(create_vocab(X_train, vocab_size = i)) == i)"
      ],
      "metadata": {
        "id": "ZWgGXqOtnXaU"
      },
      "execution_count": null,
      "outputs": []
    },
    {
      "cell_type": "code",
      "source": [
        "# Create and save your vocab\n",
        "student_created_count_dict = create_count_dict(X_train)\n",
        "student_created_vocab = create_vocab(X_train, vocab_size = 500)"
      ],
      "metadata": {
        "id": "CawjqIMXd3X3"
      },
      "execution_count": null,
      "outputs": []
    },
    {
      "cell_type": "markdown",
      "source": [
        "##[4 points] Q2.c Token Counts"
      ],
      "metadata": {
        "id": "Mx3Q8FkdrDpJ"
      }
    },
    {
      "cell_type": "markdown",
      "source": [
        "### Q2.c.a  Is the distribution of token counts below a relatively heavy-tailed distribution?  Would using only the top 30 tokens be sufficient for most applications?"
      ],
      "metadata": {
        "id": "uns15d63rJS1"
      }
    },
    {
      "cell_type": "code",
      "source": [
        "def visualize_top_token_distribution(count_dict, num_tokens_to_plot):\n",
        "  \"\"\"\n",
        "  Display a barplot of counts of top <num_tokens_to_plot> tokens in the <count_dict>\n",
        "  \"\"\"\n",
        "  df = pd.DataFrame(data={\"token\": [key for key, _ in count_dict.items()], \"count\": [value for _, value in count_dict.items()]}).sort_values(\"count\", ascending=False)\n",
        "  df[:num_tokens_to_plot].plot(x = \"token\", y = \"count\", kind=\"bar\")"
      ],
      "metadata": {
        "id": "9F3Sc2vtrBCa"
      },
      "execution_count": null,
      "outputs": []
    },
    {
      "cell_type": "code",
      "source": [
        "visualize_top_token_distribution(student_created_count_dict, 10)"
      ],
      "metadata": {
        "id": "FFGiXJuQrfHw",
        "colab": {
          "base_uri": "https://localhost:8080/",
          "height": 288
        },
        "outputId": "b49081a0-23f6-4e18-8845-5460901fe923"
      },
      "execution_count": null,
      "outputs": [
        {
          "output_type": "display_data",
          "data": {
            "text/plain": [
              "<Figure size 432x288 with 1 Axes>"
            ],
            "image/png": "[encoded data removed]"
          },
          "metadata": {
            "needs_background": "light"
          }
        }
      ]
    },
    {
      "cell_type": "code",
      "source": [
        "visualize_top_token_distribution(student_created_count_dict, 30)"
      ],
      "metadata": {
        "id": "Bzx51_xpskwS",
        "colab": {
          "base_uri": "https://localhost:8080/",
          "height": 294
        },
        "outputId": "a49532cf-b967-468c-8f73-f8b479bbcc4a"
      },
      "execution_count": null,
      "outputs": [
        {
          "output_type": "display_data",
          "data": {
            "text/plain": [
              "<Figure size 432x288 with 1 Axes>"
            ],
            "image/png": "[encoded data removed]"
          },
          "metadata": {
            "needs_background": "light"
          }
        }
      ]
    },
    {
      "cell_type": "code",
      "source": [
        "visualize_top_token_distribution(student_created_count_dict, 100)"
      ],
      "metadata": {
        "id": "3n6QenP-smAd",
        "colab": {
          "base_uri": "https://localhost:8080/",
          "height": 317
        },
        "outputId": "d6e42681-ce71-4421-d557-88d05b92a9e2"
      },
      "execution_count": null,
      "outputs": [
        {
          "output_type": "display_data",
          "data": {
            "text/plain": [
              "<Figure size 432x288 with 1 Axes>"
            ],
            "image/png": "[encoded data removed]"
          },
          "metadata": {
            "needs_background": "light"
          }
        }
      ]
    },
    {
      "cell_type": "markdown",
      "source": [
        "The distribution is a heavy-tailed distribution as it approaches 0 relatively slowly. It looks like using the top 30 samples would suffice. If we compare the plot for the top 30 tokens with the plot for top 100, the general shape is very similar because the distribution is heavy-tailed. So the top 30 samples already captures the distribution nicely. "
      ],
      "metadata": {
        "id": "7wb1aDR0XTSP"
      }
    },
    {
      "cell_type": "markdown",
      "source": [
        "### Q2.c.b [2 points] Take a look at the top 10 tokens in the plot above, do you think the embeddings based on those tokens will be informative for our task?\n"
      ],
      "metadata": {
        "id": "S4woSRLSt6bt"
      }
    },
    {
      "cell_type": "markdown",
      "source": [
        "The top 10 tokens wil not be informative enough for our task. We can observe that the tail only starts to stabilize at around the 20th token. So using the top 10 tokens alone will not provide much information about the distribution."
      ],
      "metadata": {
        "id": "QZCCCcILuG5N"
      }
    },
    {
      "cell_type": "markdown",
      "source": [
        "## Q2.d [ 13 points ] Vocabulary selection and Embeddings"
      ],
      "metadata": {
        "id": "Zx96W-8PtrbV"
      }
    },
    {
      "cell_type": "code",
      "source": [
        "# NOTHING TO DO HERE, JUST SOME CONVENIENCE FUNCTIONS FOR THE FUTURE\n",
        "def index_to_token(index:int, vocabulary:dict) -> str:\n",
        "  \"\"\"\n",
        "  Given an index in the vocabulary, and the vocabulary dict with tokens as keys, and indices as values, returns the token that maps to the given index\n",
        "  \"\"\"\n",
        "  if index > len(vocabulary):\n",
        "    raise ValueError(f\"There is no index {index} in the vocabulary\")\n",
        "  inv_vocabulary = {v: k for k, v in vocabulary.items()}\n",
        "  return inv_vocabulary[index]\n",
        "\n",
        "def token_to_index(token:str, vocabulary:dict) -> int:\n",
        "  \"\"\"\n",
        "  Given a token, return the index of that token in the vocabulary\n",
        "  \"\"\"\n",
        "  index = vocabulary.get(token)\n",
        "  if index is None:\n",
        "    raise ValueError(f\"Token: {token} is not in the vocabulary\")\n",
        "  return index"
      ],
      "metadata": {
        "id": "vKCpZXNCH5do"
      },
      "execution_count": null,
      "outputs": []
    },
    {
      "cell_type": "code",
      "source": [
        "## NOTHING TO DO HERE\n",
        "\n",
        "# BoW with our vocab\n",
        "vectorizer_ours = CountVectorizer(max_features=500, tokenizer=tokenize, vocabulary=student_created_vocab) # Automatic BoW embeddings using your vocab\n",
        "vectorized_data_ours = vectorizer_ours.fit_transform(X_train) # Embedded data\n",
        "\n",
        "# Bow with an auto vocab\n",
        "vectorizer_auto = CountVectorizer(max_features=500) # Automatic BoW embeddings and automatic vocab\n",
        "vectorized_data_auto = vectorizer_auto.fit_transform(X_train) # Embedded data\n",
        "VOCAB = vectorizer_auto.vocabulary_ # For convenience\n",
        "\n",
        "# binary BoW\n",
        "vectorizer_bbow = CountVectorizer(max_features=500, binary=True, vocabulary=VOCAB) # Automatic binary BoW embeddings using the automatically generated vocab above\n",
        "vectorized_data_bbow = vectorizer_bbow.fit_transform(X_train) # Embedded data\n",
        "\n",
        "# TFIDF\n",
        "tfidf_transformer = TfidfTransformer(smooth_idf=False) # TF-IDF transformer for BoW embeddings\n",
        "vectorized_data_tfidf_auto = tfidf_transformer.fit_transform(vectorized_data_auto) # Embedded data"
      ],
      "metadata": {
        "id": "E5GFTnNtJhgV"
      },
      "execution_count": null,
      "outputs": []
    },
    {
      "cell_type": "markdown",
      "source": [
        "### Q2.d.a [ 2 points ] Implement the function `vocabulary_diff` below. It should return a list of tokens that are in `vocab_1` but not in `vocab_2`."
      ],
      "metadata": {
        "id": "mQFvomo9urR3"
      }
    },
    {
      "cell_type": "code",
      "source": [
        "# Get the differences between our vocabulary and the automatically generated one\n",
        "\n",
        "def vocabulary_diff(vocab_1:dict, vocab_2:dict) -> List[str]:\n",
        "  \"\"\"\n",
        "  Given 2 vocabularies, returns all the tokens that are present in vocab_1 but not in vocab_2\n",
        "  \"\"\"\n",
        "  vocab_diff = set(vocab_1.keys()) - set(vocab_2.keys())\n",
        "  return vocab_diff\n",
        "\n",
        "\n",
        "print(vocabulary_diff(student_created_vocab,VOCAB))\n",
        "print(vocabulary_diff(VOCAB, student_created_vocab))"
      ],
      "metadata": {
        "id": "6-CScQ3tKGPU",
        "colab": {
          "base_uri": "https://localhost:8080/"
        },
        "outputId": "ff9ba781-3ed6-43eb-d72a-cfdcbf062c03"
      },
      "execution_count": null,
      "outputs": [
        {
          "output_type": "stream",
          "name": "stdout",
          "text": [
            "{'', 'you,', '£1000', '.', \"you're\", 'n', 'a', 'd', 'juz', '&lt;#&gt;', 'lor.\\n', \"i'll\", 'day.\\n', 'wif', 'yeah,', 'day.', 'me\\n', '.\\n', 'sorry,', '?\\n', '5', 'you.\\n', 'u.', '!', 'home.', '1', 'urgent!', 'it.', ',', 'saying', 'you!', \"i'm\", 'i.ll', 'k', 'g', 'stay', 'lor...\\n', '&', \"there's\", 'c', 'me.', \"it's\", '?', '2', '-', 'ok.', 'lor...', 'da.', 'now!', 'u', 'wil', 'later\\n', 'v', 'e', ':)\\n', '6', 'it.\\n', 'tomorrow\\n', 'no.', 'needs', 'i', 'now.', '*', 'it,', '+', 'you.', \"we're\", \"can't\", \"don't\", \"how's\", 'y', 'me.\\n', \"he's\", \"i've\", 'x', \"that's\", '£100', '3', \"won't\", '£500', 'r', 'you\\n', '4', '&lt;decimal&gt;', 'ü', '\\n', 'b', 'lor.', \"didn't\", '&amp;', '...', 'makes'}\n",
            "{'mob', '10', 'don', 'feeling', 'cs', 'yet', 'hour', 'aight', 'true', 'drive', 'xxx', 'lar', 'urgent', 'min', '18', 'book', 'times', 'www', 'haha', 'baby', 'didn', 'though', 'messages', 'tmr', '150p', 'house', 'dreams', 'girl', 'cool', 'bored', 'comes', 'pa', 'rate', 'liao', 'plz', 'head', 'leh', 'easy', 'com', 'apply', 'okay', 'room', 'month', 'kiss', 'problem', 're', '150ppm', 'orange', 'wife', 'ah', 'anyway', 've', 'office', 'hello', '100', 'll', 'princess', 'amp', 'evening', 'hours', 'co', 'mail', 'bed', 'wk', 'landline', 'fine', '1000', '16', 'uk', '50', 'afternoon', 'code', 'online', 'boy', 'while', 'dad', 'line', 'weekend', 'else', 'worry', 'gt', '000', 'thanx', 'calls', 'haven', 'offer', 'plan', 'sir', 'bus', 'busy', 'word', 'lt'}\n"
          ]
        }
      ]
    },
    {
      "cell_type": "markdown",
      "source": [
        "###  Q2.d.b [3 points] Based on the differences between the two vocabularies, which do you think will represent our datapoints better? Why? "
      ],
      "metadata": {
        "id": "q3gDDBttvyVW"
      }
    },
    {
      "cell_type": "markdown",
      "source": [
        "The 'VOCAB' vocabularies represent the datapoints better. The way we tokenize the texts differentiates a word with the same word but at the end of the line. For example, 'you\\n' and 'you!' are different tokens than 'you'. We see that in the 'student_created_vacoab' vocabulary, most of the extra tokens are those that contain symbols, so there is a good chance that the same words are also present in 'VOCAB' but without the symbols. Whereas the extra tokens in 'VOCAB' are legitimate words, hence containing more information about the datapoints. "
      ],
      "metadata": {
        "id": "SSDcv9SYwGJj"
      }
    },
    {
      "cell_type": "code",
      "source": [
        "# Some convenience constants\n",
        "DOCUMENT_COUNTS = np.bincount(vectorized_data_bbow.indices, minlength=vectorized_data_bbow.shape[1])\n",
        "NUM_DATAPOINTS = len(X_train)\n",
        "VOCAB = vectorizer_auto.vocabulary_"
      ],
      "metadata": {
        "id": "ZDa_SZbdN1tA"
      },
      "execution_count": null,
      "outputs": []
    },
    {
      "cell_type": "markdown",
      "source": [
        "### Q2.d.c [3 points] Implement the `idf` function below which returns the inverse document frequency of a given word as defined by:\n",
        "\n",
        "$$ IDF(w_j) = log(\\frac{N}{N_j}) + 1 $$\n",
        "\n",
        "where:\n",
        "\n",
        "* $N$ is the number of datapoints \n",
        "\n",
        "* $N_j$ is the number of occurences of word $w_j$ in the data"
      ],
      "metadata": {
        "id": "BvRheDH8w7lF"
      }
    },
    {
      "cell_type": "code",
      "source": [
        "def idf(word:str, document_count:np.ndarray=DOCUMENT_COUNTS, num_datapoints:int=NUM_DATAPOINTS) -> float:\n",
        "  \"\"\"\n",
        "  returns the inverse document frequency of a particular word, based on the IDF definition of\n",
        "\n",
        "  IDF(w_j) = log(N / N_j) + 1\n",
        "\n",
        "  \"\"\"\n",
        "  index = VOCAB[word]\n",
        "  return np.log(num_datapoints/document_count[index]) + 1"
      ],
      "metadata": {
        "id": "V-dlIRAPPzSE"
      },
      "execution_count": null,
      "outputs": []
    },
    {
      "cell_type": "code",
      "source": [
        "for index in np.random.randint(0,500, size=15).tolist():\n",
        "  print(f\"word: {index_to_token(index, VOCAB)}\")\n",
        "  print(f\"your idf: {idf(index_to_token(index, VOCAB))}\")\n",
        "  print(f\"calculated idf: {tfidf_transformer.idf_[index]}\")\n",
        "  assert np.isclose(tfidf_transformer.idf_[index], idf(index_to_token(index, VOCAB)))"
      ],
      "metadata": {
        "id": "7wEYAGnnQi97",
        "colab": {
          "base_uri": "https://localhost:8080/"
        },
        "outputId": "ed63d242-23fb-425e-b4b4-414df7640ee2"
      },
      "execution_count": null,
      "outputs": [
        {
          "output_type": "stream",
          "name": "stdout",
          "text": [
            "word: head\n",
            "your idf: 6.4357748654504405\n",
            "calculated idf: 6.4357748654504405\n",
            "word: ah\n",
            "your idf: 6.224465771783233\n",
            "calculated idf: 6.224465771783233\n",
            "word: customer\n",
            "your idf: 5.713640148017243\n",
            "calculated idf: 5.713640148017243\n",
            "word: dont\n",
            "your idf: 4.684020730836085\n",
            "calculated idf: 4.684020730836085\n",
            "word: where\n",
            "your idf: 4.862268962242403\n",
            "calculated idf: 4.862268962242403\n",
            "word: it\n",
            "your idf: 3.2216160304603783\n",
            "calculated idf: 3.2216160304603783\n",
            "word: po\n",
            "your idf: 6.0909343791587105\n",
            "calculated idf: 6.0909343791587105\n",
            "word: weekend\n",
            "your idf: 6.177945756148341\n",
            "calculated idf: 6.177945756148341\n",
            "word: co\n",
            "your idf: 5.60542656337701\n",
            "calculated idf: 5.60542656337701\n",
            "word: sms\n",
            "your idf: 5.685469271050547\n",
            "calculated idf: 5.685469271050547\n",
            "word: could\n",
            "your idf: 5.742627684890495\n",
            "calculated idf: 5.742627684890495\n",
            "word: service\n",
            "your idf: 5.58010875539272\n",
            "calculated idf: 5.58010875539272\n",
            "word: forgot\n",
            "your idf: 6.133493993577507\n",
            "calculated idf: 6.133493993577507\n",
            "word: easy\n",
            "your idf: 6.273255935952665\n",
            "calculated idf: 6.273255935952665\n",
            "word: first\n",
            "your idf: 5.555416142802349\n",
            "calculated idf: 5.555416142802349\n"
          ]
        }
      ]
    },
    {
      "cell_type": "markdown",
      "source": [
        "### Q2.d.d [2 points] Implement a binary Bag of Words embedding function that takes in a list of token and a vocab, and returns a numpy array corresponding to the embedding vector"
      ],
      "metadata": {
        "id": "RIYmBJfkxg50"
      }
    },
    {
      "cell_type": "code",
      "source": [
        "def binary_BoW_embedder(list_of_tokens:List[str], vocab:dict) -> np.ndarray:\n",
        "  \"\"\"\n",
        "  Creates a binary Bag of Words embedding of a datapoint represented as a list of tokens, using the vocab\n",
        "  \"\"\"\n",
        "  # Hint: you may want to start with np.zeros()\n",
        "  embedding = np.zeros(len(vocab))\n",
        "  for word in list_of_tokens:\n",
        "    if word in vocab:\n",
        "      index = vocab[word]\n",
        "      embedding[index] = 1\n",
        "\n",
        "  return embedding"
      ],
      "metadata": {
        "id": "AvtjwrUyS0lT"
      },
      "execution_count": null,
      "outputs": []
    },
    {
      "cell_type": "code",
      "source": [
        "for test_num in range(15):\n",
        "  sample_token_indices = np.random.randint(0,500, size=10)\n",
        "  input_text = [index_to_token(index, VOCAB) for index in sample_token_indices]\n",
        "  input_text_as_str = \" \".join(input_text)\n",
        "  print(f\"text: {input_text}\")\n",
        "  if test_num == 0:\n",
        "    print(f\"your embedding: {binary_BoW_embedder(input_text, VOCAB)}\")\n",
        "    print(f\"calculated embedding: {vectorizer_bbow.transform([input_text_as_str]).toarray()}\")\n",
        "  assert np.isclose(binary_BoW_embedder(input_text, VOCAB), vectorizer_bbow.transform([input_text_as_str]).toarray()).all()\n",
        "  print(\"Success!\")"
      ],
      "metadata": {
        "id": "j5kCOIlVUMrM",
        "colab": {
          "base_uri": "https://localhost:8080/"
        },
        "outputId": "38ab6454-f3f7-4bb5-d1dc-0f000eb90db0"
      },
      "execution_count": null,
      "outputs": [
        {
          "output_type": "stream",
          "name": "stdout",
          "text": [
            "text: ['or', 'maybe', 'really', 'yeah', 'time', 'nothing', 'stuff', 'hello', 'wait', 'morning']\n",
            "your embedding: [0. 0. 0. 0. 0. 0. 0. 0. 0. 0. 0. 0. 0. 0. 0. 0. 0. 0. 0. 0. 0. 0. 0. 0.\n",
            " 0. 0. 0. 0. 0. 0. 0. 0. 0. 0. 0. 0. 0. 0. 0. 0. 0. 0. 0. 0. 0. 0. 0. 0.\n",
            " 0. 0. 0. 0. 0. 0. 0. 0. 0. 0. 0. 0. 0. 0. 0. 0. 0. 0. 0. 0. 0. 0. 0. 0.\n",
            " 0. 0. 0. 0. 0. 0. 0. 0. 0. 0. 0. 0. 0. 0. 0. 0. 0. 0. 0. 0. 0. 0. 0. 0.\n",
            " 0. 0. 0. 0. 0. 0. 0. 0. 0. 0. 0. 0. 0. 0. 0. 0. 0. 0. 0. 0. 0. 0. 0. 0.\n",
            " 0. 0. 0. 0. 0. 0. 0. 0. 0. 0. 0. 0. 0. 0. 0. 0. 0. 0. 0. 0. 0. 0. 0. 0.\n",
            " 0. 0. 0. 0. 0. 0. 0. 0. 0. 0. 0. 0. 0. 0. 0. 0. 0. 0. 0. 0. 0. 0. 0. 0.\n",
            " 0. 0. 0. 0. 0. 0. 0. 0. 0. 0. 0. 0. 0. 0. 0. 0. 0. 0. 0. 0. 0. 0. 0. 1.\n",
            " 0. 0. 0. 0. 0. 0. 0. 0. 0. 0. 0. 0. 0. 0. 0. 0. 0. 0. 0. 0. 0. 0. 0. 0.\n",
            " 0. 0. 0. 0. 0. 0. 0. 0. 0. 0. 0. 0. 0. 0. 0. 0. 0. 0. 0. 0. 0. 0. 0. 0.\n",
            " 0. 0. 0. 0. 0. 0. 0. 0. 0. 0. 0. 0. 0. 0. 0. 0. 0. 1. 0. 0. 0. 0. 0. 0.\n",
            " 0. 0. 0. 0. 0. 0. 0. 0. 0. 0. 0. 0. 1. 0. 0. 0. 0. 0. 0. 0. 0. 0. 0. 0.\n",
            " 0. 0. 0. 0. 0. 1. 0. 0. 0. 0. 0. 0. 0. 0. 0. 0. 0. 0. 0. 0. 1. 0. 0. 0.\n",
            " 0. 0. 0. 0. 0. 0. 0. 0. 0. 0. 0. 0. 0. 0. 0. 0. 0. 0. 0. 0. 0. 0. 0. 0.\n",
            " 0. 0. 0. 0. 0. 0. 0. 1. 0. 0. 0. 0. 0. 0. 0. 0. 0. 0. 0. 0. 0. 0. 0. 0.\n",
            " 0. 0. 0. 0. 0. 0. 0. 0. 0. 0. 0. 0. 0. 0. 0. 0. 0. 0. 0. 0. 0. 0. 0. 0.\n",
            " 0. 1. 0. 0. 0. 0. 0. 0. 0. 0. 0. 0. 0. 0. 0. 0. 0. 0. 0. 0. 0. 0. 0. 0.\n",
            " 0. 0. 0. 0. 0. 1. 0. 0. 0. 0. 0. 0. 0. 0. 0. 0. 0. 0. 0. 0. 0. 0. 0. 0.\n",
            " 0. 0. 0. 0. 0. 0. 0. 0. 0. 0. 0. 1. 0. 0. 0. 0. 0. 0. 0. 0. 0. 0. 0. 0.\n",
            " 0. 0. 0. 0. 0. 0. 0. 0. 0. 0. 0. 0. 0. 0. 0. 0. 0. 0. 0. 0. 0. 0. 0. 0.\n",
            " 0. 0. 0. 0. 0. 0. 0. 0. 0. 0. 0. 1. 0. 0. 0. 0. 0. 0. 0. 0.]\n",
            "calculated embedding: [[0 0 0 0 0 0 0 0 0 0 0 0 0 0 0 0 0 0 0 0 0 0 0 0 0 0 0 0 0 0 0 0 0 0 0 0\n",
            "  0 0 0 0 0 0 0 0 0 0 0 0 0 0 0 0 0 0 0 0 0 0 0 0 0 0 0 0 0 0 0 0 0 0 0 0\n",
            "  0 0 0 0 0 0 0 0 0 0 0 0 0 0 0 0 0 0 0 0 0 0 0 0 0 0 0 0 0 0 0 0 0 0 0 0\n",
            "  0 0 0 0 0 0 0 0 0 0 0 0 0 0 0 0 0 0 0 0 0 0 0 0 0 0 0 0 0 0 0 0 0 0 0 0\n",
            "  0 0 0 0 0 0 0 0 0 0 0 0 0 0 0 0 0 0 0 0 0 0 0 0 0 0 0 0 0 0 0 0 0 0 0 0\n",
            "  0 0 0 0 0 0 0 0 0 0 0 1 0 0 0 0 0 0 0 0 0 0 0 0 0 0 0 0 0 0 0 0 0 0 0 0\n",
            "  0 0 0 0 0 0 0 0 0 0 0 0 0 0 0 0 0 0 0 0 0 0 0 0 0 0 0 0 0 0 0 0 0 0 0 0\n",
            "  0 0 0 0 0 1 0 0 0 0 0 0 0 0 0 0 0 0 0 0 0 0 0 0 1 0 0 0 0 0 0 0 0 0 0 0\n",
            "  0 0 0 0 0 1 0 0 0 0 0 0 0 0 0 0 0 0 0 0 1 0 0 0 0 0 0 0 0 0 0 0 0 0 0 0\n",
            "  0 0 0 0 0 0 0 0 0 0 0 0 0 0 0 0 0 0 0 1 0 0 0 0 0 0 0 0 0 0 0 0 0 0 0 0\n",
            "  0 0 0 0 0 0 0 0 0 0 0 0 0 0 0 0 0 0 0 0 0 0 0 0 0 1 0 0 0 0 0 0 0 0 0 0\n",
            "  0 0 0 0 0 0 0 0 0 0 0 0 0 0 0 0 0 1 0 0 0 0 0 0 0 0 0 0 0 0 0 0 0 0 0 0\n",
            "  0 0 0 0 0 0 0 0 0 0 0 1 0 0 0 0 0 0 0 0 0 0 0 0 0 0 0 0 0 0 0 0 0 0 0 0\n",
            "  0 0 0 0 0 0 0 0 0 0 0 0 0 0 0 0 0 0 0 0 0 0 0 1 0 0 0 0 0 0 0 0]]\n",
            "Success!\n",
            "text: ['getting', 'weekly', 'over', 'aight', 'make', 'like', 'receive', 'beautiful', 'wish', 'birthday']\n",
            "Success!\n",
            "text: ['got', 'with', 'he', 'were', 'missed', 'hear', 'wake', 'guess', 'wake', 'bed']\n",
            "Success!\n",
            "text: ['shit', 'best', 'looking', 'per', 'easy', 'worry', 'online', 'enjoy', 'ah', 'plus']\n",
            "Success!\n",
            "text: ['going', 'money', 'sweet', 'code', 'pain', 'about', 'long', 'might', 'remember', 'before']\n",
            "Success!\n",
            "text: ['stuff', 're', 'com', 'show', 'wait', 'watching', 'trying', 'messages', 'txt', 'apply']\n",
            "Success!\n",
            "text: ['how', 'care', 'tomorrow', 'because', 'service', 'sweet', '10', 'talk', 'being', 'dat']\n",
            "Success!\n",
            "text: ['means', 'orange', 'without', 'heart', 'there', 'join', 'babe', 'girl', 'hope', 'wake']\n",
            "Success!\n",
            "text: ['world', 'miss', 'said', 'on', 'missed', 'way', 'wen', 'it', 'mail', 'hear']\n",
            "Success!\n",
            "text: ['number', 'into', 'if', 'line', 'quite', 'show', 'before', 'much', 'though', 'job']\n",
            "Success!\n",
            "text: ['mail', 'he', 'speak', 'year', 'attempt', 'fuck', 'abt', 'oh', 'boy', 'receive']\n",
            "Success!\n",
            "text: ['please', '1st', 'really', 'dunno', 'yeah', 'enough', 'wife', 'bored', 'evening', 'your']\n",
            "Success!\n",
            "text: ['care', 'text', 'give', 'told', 'nice', 'sorry', 'meet', 'xxx', 'left', 'attempt']\n",
            "Success!\n",
            "text: ['amp', 'enjoy', 'home', 'pls', 'mins', 'today', 'anything', 'be', 'this', 'book']\n",
            "Success!\n",
            "text: ['its', 'not', 'cost', 'gt', 'service', 'is', 'wish', 'apply', 'wanna', 'late']\n",
            "Success!\n"
          ]
        }
      ]
    },
    {
      "cell_type": "markdown",
      "source": [
        "### Q2.d.e [2 points] Implement a Bag of Words embedding function that takes in a list of token and a vocab, and returns a numpy array corresponding to the embedding vector"
      ],
      "metadata": {
        "id": "9QvHSEz2xzAC"
      }
    },
    {
      "cell_type": "code",
      "source": [
        "def BoW_embedder(list_of_tokens, vocab):\n",
        "  \"\"\"\n",
        "  Creates a binary Bag of Words embedding of a datapoint represented as a list of tokens, using the vocab\n",
        "  \"\"\"\n",
        "  # Hint: You may want to start with np.zeros()\n",
        "  embedding = np.zeros(len(vocab))\n",
        "  for word in list_of_tokens:\n",
        "    if word in vocab:\n",
        "      index = vocab[word]\n",
        "      embedding[index] = list_of_tokens.count(word)\n",
        "\n",
        "  return embedding"
      ],
      "metadata": {
        "id": "RnWQOaXKaczA"
      },
      "execution_count": null,
      "outputs": []
    },
    {
      "cell_type": "code",
      "source": [
        "for test_num in range(15):\n",
        "  sample_token_indices = np.random.randint(199,204, size=10)\n",
        "  input_text = [index_to_token(index, VOCAB) for index in sample_token_indices]\n",
        "  input_text_as_str = \" \".join(input_text)\n",
        "  print(f\"text: {input_text}\")\n",
        "  if test_num == 0:\n",
        "    print(f\"your embedding: {BoW_embedder(input_text, VOCAB)}\")\n",
        "    print(f\"calculated embedding: {vectorizer_auto.transform([input_text_as_str]).toarray()}\")\n",
        "  assert np.isclose(BoW_embedder(input_text, VOCAB), vectorizer_auto.transform([input_text_as_str]).toarray()).all()\n",
        "  print(\"Success!\")"
      ],
      "metadata": {
        "id": "zH4YTsgghcqE",
        "colab": {
          "base_uri": "https://localhost:8080/"
        },
        "outputId": "4dfa5564-974b-4e3a-ddc0-ad9be4f44d99"
      },
      "execution_count": null,
      "outputs": [
        {
          "output_type": "stream",
          "name": "stdout",
          "text": [
            "text: ['hours', 'hope', 'holiday', 'hours', 'home', 'hope', 'holiday', 'home', 'home', 'hour']\n",
            "your embedding: [0. 0. 0. 0. 0. 0. 0. 0. 0. 0. 0. 0. 0. 0. 0. 0. 0. 0. 0. 0. 0. 0. 0. 0.\n",
            " 0. 0. 0. 0. 0. 0. 0. 0. 0. 0. 0. 0. 0. 0. 0. 0. 0. 0. 0. 0. 0. 0. 0. 0.\n",
            " 0. 0. 0. 0. 0. 0. 0. 0. 0. 0. 0. 0. 0. 0. 0. 0. 0. 0. 0. 0. 0. 0. 0. 0.\n",
            " 0. 0. 0. 0. 0. 0. 0. 0. 0. 0. 0. 0. 0. 0. 0. 0. 0. 0. 0. 0. 0. 0. 0. 0.\n",
            " 0. 0. 0. 0. 0. 0. 0. 0. 0. 0. 0. 0. 0. 0. 0. 0. 0. 0. 0. 0. 0. 0. 0. 0.\n",
            " 0. 0. 0. 0. 0. 0. 0. 0. 0. 0. 0. 0. 0. 0. 0. 0. 0. 0. 0. 0. 0. 0. 0. 0.\n",
            " 0. 0. 0. 0. 0. 0. 0. 0. 0. 0. 0. 0. 0. 0. 0. 0. 0. 0. 0. 0. 0. 0. 0. 0.\n",
            " 0. 0. 0. 0. 0. 0. 0. 0. 0. 0. 0. 0. 0. 0. 0. 0. 0. 0. 0. 0. 0. 0. 0. 0.\n",
            " 0. 0. 0. 0. 0. 0. 0. 2. 3. 2. 1. 2. 0. 0. 0. 0. 0. 0. 0. 0. 0. 0. 0. 0.\n",
            " 0. 0. 0. 0. 0. 0. 0. 0. 0. 0. 0. 0. 0. 0. 0. 0. 0. 0. 0. 0. 0. 0. 0. 0.\n",
            " 0. 0. 0. 0. 0. 0. 0. 0. 0. 0. 0. 0. 0. 0. 0. 0. 0. 0. 0. 0. 0. 0. 0. 0.\n",
            " 0. 0. 0. 0. 0. 0. 0. 0. 0. 0. 0. 0. 0. 0. 0. 0. 0. 0. 0. 0. 0. 0. 0. 0.\n",
            " 0. 0. 0. 0. 0. 0. 0. 0. 0. 0. 0. 0. 0. 0. 0. 0. 0. 0. 0. 0. 0. 0. 0. 0.\n",
            " 0. 0. 0. 0. 0. 0. 0. 0. 0. 0. 0. 0. 0. 0. 0. 0. 0. 0. 0. 0. 0. 0. 0. 0.\n",
            " 0. 0. 0. 0. 0. 0. 0. 0. 0. 0. 0. 0. 0. 0. 0. 0. 0. 0. 0. 0. 0. 0. 0. 0.\n",
            " 0. 0. 0. 0. 0. 0. 0. 0. 0. 0. 0. 0. 0. 0. 0. 0. 0. 0. 0. 0. 0. 0. 0. 0.\n",
            " 0. 0. 0. 0. 0. 0. 0. 0. 0. 0. 0. 0. 0. 0. 0. 0. 0. 0. 0. 0. 0. 0. 0. 0.\n",
            " 0. 0. 0. 0. 0. 0. 0. 0. 0. 0. 0. 0. 0. 0. 0. 0. 0. 0. 0. 0. 0. 0. 0. 0.\n",
            " 0. 0. 0. 0. 0. 0. 0. 0. 0. 0. 0. 0. 0. 0. 0. 0. 0. 0. 0. 0. 0. 0. 0. 0.\n",
            " 0. 0. 0. 0. 0. 0. 0. 0. 0. 0. 0. 0. 0. 0. 0. 0. 0. 0. 0. 0. 0. 0. 0. 0.\n",
            " 0. 0. 0. 0. 0. 0. 0. 0. 0. 0. 0. 0. 0. 0. 0. 0. 0. 0. 0. 0.]\n",
            "calculated embedding: [[0 0 0 0 0 0 0 0 0 0 0 0 0 0 0 0 0 0 0 0 0 0 0 0 0 0 0 0 0 0 0 0 0 0 0 0\n",
            "  0 0 0 0 0 0 0 0 0 0 0 0 0 0 0 0 0 0 0 0 0 0 0 0 0 0 0 0 0 0 0 0 0 0 0 0\n",
            "  0 0 0 0 0 0 0 0 0 0 0 0 0 0 0 0 0 0 0 0 0 0 0 0 0 0 0 0 0 0 0 0 0 0 0 0\n",
            "  0 0 0 0 0 0 0 0 0 0 0 0 0 0 0 0 0 0 0 0 0 0 0 0 0 0 0 0 0 0 0 0 0 0 0 0\n",
            "  0 0 0 0 0 0 0 0 0 0 0 0 0 0 0 0 0 0 0 0 0 0 0 0 0 0 0 0 0 0 0 0 0 0 0 0\n",
            "  0 0 0 0 0 0 0 0 0 0 0 0 0 0 0 0 0 0 0 2 3 2 1 2 0 0 0 0 0 0 0 0 0 0 0 0\n",
            "  0 0 0 0 0 0 0 0 0 0 0 0 0 0 0 0 0 0 0 0 0 0 0 0 0 0 0 0 0 0 0 0 0 0 0 0\n",
            "  0 0 0 0 0 0 0 0 0 0 0 0 0 0 0 0 0 0 0 0 0 0 0 0 0 0 0 0 0 0 0 0 0 0 0 0\n",
            "  0 0 0 0 0 0 0 0 0 0 0 0 0 0 0 0 0 0 0 0 0 0 0 0 0 0 0 0 0 0 0 0 0 0 0 0\n",
            "  0 0 0 0 0 0 0 0 0 0 0 0 0 0 0 0 0 0 0 0 0 0 0 0 0 0 0 0 0 0 0 0 0 0 0 0\n",
            "  0 0 0 0 0 0 0 0 0 0 0 0 0 0 0 0 0 0 0 0 0 0 0 0 0 0 0 0 0 0 0 0 0 0 0 0\n",
            "  0 0 0 0 0 0 0 0 0 0 0 0 0 0 0 0 0 0 0 0 0 0 0 0 0 0 0 0 0 0 0 0 0 0 0 0\n",
            "  0 0 0 0 0 0 0 0 0 0 0 0 0 0 0 0 0 0 0 0 0 0 0 0 0 0 0 0 0 0 0 0 0 0 0 0\n",
            "  0 0 0 0 0 0 0 0 0 0 0 0 0 0 0 0 0 0 0 0 0 0 0 0 0 0 0 0 0 0 0 0]]\n",
            "Success!\n",
            "text: ['hours', 'hope', 'holiday', 'hour', 'hours', 'hour', 'hours', 'hours', 'hope', 'hours']\n",
            "Success!\n",
            "text: ['hour', 'hours', 'hope', 'hope', 'hour', 'home', 'home', 'hours', 'holiday', 'hours']\n",
            "Success!\n",
            "text: ['hour', 'hour', 'hour', 'hour', 'hour', 'hope', 'home', 'hour', 'holiday', 'holiday']\n",
            "Success!\n",
            "text: ['holiday', 'holiday', 'hope', 'holiday', 'hour', 'hours', 'holiday', 'hope', 'hope', 'holiday']\n",
            "Success!\n",
            "text: ['hours', 'holiday', 'hope', 'home', 'hour', 'hope', 'holiday', 'hour', 'holiday', 'holiday']\n",
            "Success!\n",
            "text: ['home', 'hour', 'hour', 'home', 'hope', 'holiday', 'hours', 'holiday', 'holiday', 'hope']\n",
            "Success!\n",
            "text: ['holiday', 'home', 'home', 'hour', 'hours', 'holiday', 'holiday', 'hope', 'home', 'hours']\n",
            "Success!\n",
            "text: ['hour', 'home', 'hour', 'hope', 'hope', 'holiday', 'hours', 'hour', 'home', 'hope']\n",
            "Success!\n",
            "text: ['holiday', 'holiday', 'hour', 'hope', 'hours', 'hope', 'hour', 'hour', 'hope', 'hour']\n",
            "Success!\n",
            "text: ['hope', 'home', 'hope', 'hope', 'hour', 'hour', 'holiday', 'holiday', 'home', 'holiday']\n",
            "Success!\n",
            "text: ['hope', 'hour', 'holiday', 'holiday', 'home', 'home', 'hope', 'hour', 'home', 'holiday']\n",
            "Success!\n",
            "text: ['hour', 'hour', 'holiday', 'home', 'holiday', 'hour', 'hours', 'hours', 'hope', 'holiday']\n",
            "Success!\n",
            "text: ['holiday', 'hope', 'hope', 'hope', 'hour', 'holiday', 'hour', 'hope', 'holiday', 'hour']\n",
            "Success!\n",
            "text: ['hour', 'hope', 'holiday', 'hope', 'holiday', 'hours', 'home', 'home', 'home', 'hope']\n",
            "Success!\n"
          ]
        }
      ]
    },
    {
      "cell_type": "markdown",
      "source": [
        "##Q2.e [11 points] Model Fitting"
      ],
      "metadata": {
        "id": "c_2Ff_JaiJ8_"
      }
    },
    {
      "cell_type": "code",
      "source": [
        "from sklearn.linear_model import LogisticRegression\n",
        "from sklearn.metrics import accuracy_score"
      ],
      "metadata": {
        "id": "7xkV3-sphmKl"
      },
      "execution_count": null,
      "outputs": []
    },
    {
      "cell_type": "code",
      "source": [
        "logreg_auto = LogisticRegression(random_state=1).fit(vectorized_data_auto, y_train)\n",
        "logreg_bbow = LogisticRegression(random_state=1).fit(vectorized_data_bbow, y_train)\n",
        "logreg_tfidf = LogisticRegression(random_state=1).fit(vectorized_data_tfidf_auto, y_train)"
      ],
      "metadata": {
        "id": "Bkq8Wnm7jSCn"
      },
      "execution_count": null,
      "outputs": []
    },
    {
      "cell_type": "markdown",
      "source": [
        "### Q2.e.a [3 points] Evaluation Metrics\n",
        "Below you can see a set of simple accuracy scores: \n",
        "\n",
        "https://scikit-learn.org/stable/modules/model_evaluation.html#accuracy-score\n",
        "\n",
        "In what situation would accuracy be a good evaluation metric? In what situation it wouldn't? "
      ],
      "metadata": {
        "id": "x166D5jgzcXD"
      }
    },
    {
      "cell_type": "code",
      "source": [
        "print(f\" All 1s; accuracy on validation data: {accuracy_score(y_val, np.ones_like(y_val))}\")\n",
        "\n",
        "print(f\" All 0s; accuracy on validation data: {accuracy_score(y_val, np.zeros_like(y_val))}\")\n",
        "\n",
        "print(f\" Logistic Regression on BoW embedding; accuracy on validation data: {accuracy_score(y_val, logreg_auto.predict(vectorizer_auto.transform(X_val)))}\")\n",
        "\n",
        "print(f\" Logistic Regression on binary BoW embedding; accuracy on validation data: {accuracy_score(y_val, logreg_bbow.predict(vectorizer_bbow.transform(X_val)))}\")\n",
        "\n",
        "print(f\" Logistic Regression on TF-IDF embedding; accuracy on validation data: {accuracy_score(y_val, logreg_tfidf.predict(tfidf_transformer.transform(vectorizer_auto.transform(X_val))))}\")\n"
      ],
      "metadata": {
        "id": "rBmtzT6dlmKo",
        "collapsed": true,
        "colab": {
          "base_uri": "https://localhost:8080/"
        },
        "outputId": "de002872-db8f-467a-c4ee-69d088e9ace9"
      },
      "execution_count": null,
      "outputs": [
        {
          "output_type": "stream",
          "name": "stdout",
          "text": [
            " All 1s; accuracy on validation data: 0.1255980861244019\n",
            " All 0s; accuracy on validation data: 0.8744019138755981\n",
            " Logistic Regression on BoW embedding; accuracy on validation data: 0.9772727272727273\n",
            " Logistic Regression on binary BoW embedding; accuracy on validation data: 0.9808612440191388\n",
            " Logistic Regression on TF-IDF embedding; accuracy on validation data: 0.972488038277512\n"
          ]
        }
      ]
    },
    {
      "cell_type": "markdown",
      "source": [
        "The general formula for accuracy is $\\frac{\\text{True positives + True negatives}}{\\text{All Samples}}$. Therefore it would be a good evaluation metric if we are not concerned about the cost of false positives and false negatives (ie. we assign equal cost to false positives and false negatives) and only want to see how many datapoints are correctly labeled. It would not be a good metric, however, if the cost is unequal. Suppose we define positive as being spam, then if we incorrectly classify a job offer as spam (false positive), the cost is way higher than if we were to classify spam as a regular text (false negative). In this case, accuracy score would not be too meaningful. "
      ],
      "metadata": {
        "id": "f3gZZYLy0f37"
      }
    },
    {
      "cell_type": "markdown",
      "source": [
        "### Q2.e.b [8 points] Answer the following in one-two sentences (2 points each)\n",
        "\n",
        "* What is the interpretation of coefficient $\\beta_j$ with $j > 1$ (so not the intercept) in the Logistic regression model fit on the binary BoW embeddings?\n",
        "\n",
        "* What is the interpretation of coefficient $\\beta_j$ with $j > 1$ (so not the intercept) in the Logistic regression model fit on the BoW embeddings?\n",
        "\n",
        "* If we were to include 1-st order interaction terms in our Logistic Regression model fit on binary BoW embeddings, what would be the interpretation of a coefficient for that interaction ?\n",
        "\n",
        "* Is the above different from fitting a Logistic Regression on a combination of unigrams and bigrams (1-grams, and 2-grams)? Explain."
      ],
      "metadata": {
        "id": "1OWMNrwD0hwR"
      }
    },
    {
      "cell_type": "markdown",
      "source": [
        "*   The coefficient represents the effect of one feature (an unique word in the vocabulary) on the fit of the logistic regression.\n",
        "*   The interpretation is same as above. The difference is that in binary BoW, the feature value is either 1 or 0. In BoW, the feature value is the count of that specific word. So the coefficient values can be different because of this difference. \n",
        "*   Apart from the original coefficient that corresponds to one feature, now we will have the interaction of two features. So the additional coefficient for that interaction measures the effect of the combination of the two features. \n",
        "*   This is different from fitting a logistic regression on a combination of unigrams and bigrams. This is because bigrams are defined as a sequence of two **adjacent** elements, so the elements are split in the order of the original tokens. First-order interaction terms can be the interaction of any combinations of two features. For example, suppose we have the text \"abc\". For a combination of unigrams and bigrams, we would have \"a\",\"b\",\"c\",\"ab\",\"bc\". For the addition of first-order interaction, we would have \"a\",\"b\",\"c\",\"ab\",**\"ac\"**,\"bc\".\n",
        "\n",
        "\n",
        "\n"
      ],
      "metadata": {
        "id": "JB4UdDyj11C_"
      }
    },
    {
      "cell_type": "markdown",
      "source": [
        "## Q2.f [4 points] Word Vectors\n",
        "\n",
        "Below we will be using a set of pre-trained word embeddings from the SpaCy library. For the purpose of the questions below, assume that they were trained\n",
        "using a Skip-Gram objective as described in lecture."
      ],
      "metadata": {
        "id": "YFZJTJ9msv_V"
      }
    },
    {
      "cell_type": "code",
      "source": [
        "# This installs a full pipeline of tokenizer -> embedder with additional components.\n",
        "\n",
        "import spacy\n",
        "spacy_pipeline = spacy.load('en_core_web_md') # If this line produces an error,\n",
        "# you might need to re-start the runtime after running the first cell."
      ],
      "metadata": {
        "id": "9vllrC6GmURD"
      },
      "execution_count": null,
      "outputs": []
    },
    {
      "cell_type": "markdown",
      "source": [
        "### Q2.f.a [2 points] Implement the function get_document_embedding_from_spacy below to return the document embedding as the average of all vector embeddings.\n",
        "\n",
        "You are not allowed to use `tokens.vector` in your functions, but you can check against it that your solution is accurate"
      ],
      "metadata": {
        "id": "MHMjDoj22TiQ"
      }
    },
    {
      "cell_type": "code",
      "source": [
        "def get_document_embedding_from_spacy(text:str) -> np.ndarray:\n",
        "  \"\"\"\n",
        "  returns the embedding vector representing the entire text by averaging the \n",
        "  word level embeddings.\n",
        "\n",
        "  !! DO NOT USE tokens.vector directly!! \n",
        "  \"\"\"\n",
        "  tokens = spacy_pipeline(text)\n",
        "\n",
        "  # Hint: you can iterate over each token in `tokens` and access the underlying vector with .vector\n",
        "  vectors = []\n",
        "  for token in tokens:\n",
        "    vectors.append(token.vector)\n",
        "  document_embedding = np.mean(vectors, axis=0)\n",
        "\n",
        "  return document_embedding"
      ],
      "metadata": {
        "id": "Lt-s7xVZm_5t"
      },
      "execution_count": null,
      "outputs": []
    },
    {
      "cell_type": "code",
      "source": [
        "# TEST FOR THE get_document_embedding_from_spacy function\n",
        "for test_num in range(15):\n",
        "  sample_token_indices = np.random.randint(0,500, size=10)\n",
        "  input_text = [index_to_token(index, VOCAB) for index in sample_token_indices]\n",
        "  input_text_as_str = \" \".join(input_text)\n",
        "  print(f\"text: {input_text}\")\n",
        "  if test_num == 0:\n",
        "    print(f\"your embedding: {get_document_embedding_from_spacy(input_text_as_str)}\")\n",
        "    print(f\"calculated embedding: {spacy_pipeline(input_text_as_str).vector}\")\n",
        "  assert np.isclose(get_document_embedding_from_spacy(input_text_as_str), spacy_pipeline(input_text_as_str).vector).all()\n",
        "  print(\"Success!\")"
      ],
      "metadata": {
        "id": "AWf-PZXlp2Do",
        "colab": {
          "base_uri": "https://localhost:8080/"
        },
        "outputId": "94ac3fa4-171d-4174-e72f-a1c3cebb0426"
      },
      "execution_count": null,
      "outputs": [
        {
          "output_type": "stream",
          "name": "stdout",
          "text": [
            "text: ['if', 'waiting', 'good', 'world', 'getting', 'bus', 'nice', 'thats', 'morning', 'on']\n",
            "your embedding: [ 5.77830411e-02  1.94456354e-01 -2.19950899e-01 -3.78643535e-02\n",
            "  9.56407264e-02  4.53359969e-02  8.85836128e-03 -1.45602450e-01\n",
            " -4.53000925e-02  2.39745450e+00 -2.43452176e-01 -1.15168363e-01\n",
            "  7.67919049e-02 -3.75229083e-02 -3.66774261e-01 -2.93011479e-02\n",
            " -1.47375271e-01  1.11763370e+00 -1.02154732e-01 -1.30321989e-02\n",
            " -3.26862708e-02  1.12621538e-01 -8.88800062e-03 -4.74057309e-02\n",
            "  5.76359145e-02 -2.09286213e-02 -2.14628633e-02 -1.40165001e-01\n",
            "  1.13103099e-01 -4.19531800e-02 -1.00099802e-01 -1.27693549e-01\n",
            " -6.14572596e-03  2.54744720e-02  8.97536427e-02  3.00560016e-02\n",
            "  7.57170990e-02  6.76214546e-02 -1.65086001e-01 -7.52437711e-02\n",
            "  1.71010010e-02 -2.83627287e-02 -8.08163583e-02  5.34527265e-02\n",
            "  2.79981866e-02  1.70090809e-01 -1.20148748e-01 -4.45693620e-02\n",
            " -1.18348815e-01 -6.59102127e-02 -1.07713267e-01  7.12039992e-02\n",
            "  1.02204541e-02  1.63156196e-01  3.67557406e-02  4.25188988e-02\n",
            " -7.49495476e-02 -7.51049966e-02 -3.92942689e-02 -7.31116310e-02\n",
            " -7.58016407e-02 -1.53665036e-01 -7.58426413e-02  1.45814538e-01\n",
            "  1.39052555e-01 -1.99691840e-02  3.19267809e-02  2.16017440e-01\n",
            "  1.60258133e-02  2.11663008e-01  1.29430652e-01  1.45465434e-02\n",
            "  2.75215894e-01 -3.38761769e-02  2.39774603e-02  1.34591851e-02\n",
            "  8.93220603e-02 -4.04253602e-02 -1.21790081e-01  2.81314641e-01\n",
            "  1.71319470e-01  9.96569917e-02 -6.07244521e-02  7.92801008e-03\n",
            "  7.88530931e-02 -5.62324524e-02  2.09131196e-01 -1.77664891e-01\n",
            "  1.87249988e-01  5.21639027e-02 -1.16070040e-01  1.21415980e-01\n",
            " -1.88078448e-01 -1.19548365e-01  9.60018113e-02 -4.38139103e-02\n",
            "  2.32090964e-03 -1.32953092e-01  8.41478705e-02  1.85054868e-01\n",
            " -8.41945037e-03 -2.99953651e-02  7.55881984e-03 -9.90392864e-02\n",
            "  7.50173628e-02 -5.58121324e-01  1.22538276e-01 -1.34616550e-02\n",
            "  3.80059145e-02  4.47868183e-02  4.05188203e-02 -2.27690279e-01\n",
            "  1.86875820e-01  5.14365472e-02  1.93801820e-01 -3.64411809e-02\n",
            " -1.44557301e-02 -5.25446385e-02  2.81055402e-02  1.81131884e-02\n",
            "  1.36125743e-01 -2.71609947e-02  1.64977228e-03 -8.94663334e-02\n",
            " -7.60962889e-02  9.75233540e-02 -8.70600343e-03 -1.89308658e-01\n",
            " -2.01377291e-02 -1.95053622e-01  8.55110958e-02 -6.78581819e-02\n",
            "  6.33580908e-02 -1.04210012e-01  8.33785534e-03 -8.84336513e-03\n",
            "  7.29555786e-02  3.47474553e-02 -4.32326384e-02 -3.76250595e-02\n",
            " -1.72876632e+00 -3.99908703e-03  2.39697650e-01 -9.18780044e-02\n",
            " -2.08243653e-02 -1.48534998e-01 -1.85276210e-01 -3.39964591e-02\n",
            "  3.64831835e-02 -5.29532693e-02 -1.70573100e-01  1.33184642e-01\n",
            "  5.06642908e-02 -1.11329272e-01 -5.35878167e-02 -1.18754603e-01\n",
            "  2.14977264e-02  7.34829009e-02  6.99280053e-02 -1.67445555e-01\n",
            " -2.42386729e-01  6.83415532e-02  2.06939504e-02 -6.72362046e-04\n",
            "  1.20769568e-01 -1.90180823e-01  2.52816360e-02 -5.28243557e-02\n",
            "  2.73993820e-01  3.08701806e-02  6.67453604e-03 -3.34038176e-02\n",
            " -1.81572617e-03 -1.70713007e-01 -1.31287863e-02  9.71101001e-02\n",
            " -7.00697303e-02  1.47352424e-02 -9.59532708e-02  4.13172506e-02\n",
            " -4.61540855e-02 -1.29487813e-01 -1.83645815e-01 -6.30893409e-02\n",
            " -7.71036446e-02  7.90366810e-03  5.18748956e-03  8.91946331e-02\n",
            "  3.44340913e-02 -3.21366377e-02 -3.08750924e-02  4.77984548e-02\n",
            " -1.63953856e-01  3.89653980e-03 -4.24803644e-02  9.74003598e-02\n",
            "  5.23957275e-02 -8.01101923e-02 -8.79954547e-02  6.12446330e-02\n",
            " -3.98226343e-02 -3.16522792e-02 -7.91558996e-02 -1.51726389e-02\n",
            "  2.19831899e-01 -1.16004497e-02 -2.59728972e-02 -6.55533299e-02\n",
            "  7.10451603e-02  1.31500848e-02 -9.51937363e-02 -1.72458276e-01\n",
            " -5.34484498e-02 -1.76113456e-01 -6.88379258e-03  1.34982362e-01\n",
            " -1.33643910e-01 -1.31464005e-01 -1.90599099e-01  3.11936382e-02\n",
            " -9.91306379e-02 -8.06855857e-02 -7.12927282e-02  1.50225461e-01\n",
            "  4.54660021e-02 -6.76870942e-02  6.99320715e-03  1.03146367e-01\n",
            " -2.00237855e-02  1.05326630e-01  2.77101826e-02  4.09435891e-02\n",
            "  6.43917769e-02  8.79969969e-02  5.44019565e-02 -1.15093820e-01\n",
            " -3.51989083e-02 -1.92908093e-01 -1.69472903e-01  2.49583095e-01\n",
            "  1.08928911e-01  1.09352827e-01 -6.13416098e-02  1.68795913e-01\n",
            " -1.93802733e-02 -1.37902275e-01 -1.17174223e-01 -9.32242796e-02\n",
            " -9.72017497e-02  5.91333658e-02 -1.08551003e-01 -1.68897539e-01\n",
            " -1.18406983e-02  3.81493033e-03  2.55680457e-02  3.11935812e-01\n",
            "  5.55644147e-02 -1.61560282e-01 -4.84270900e-02  4.29910049e-02\n",
            "  1.38611004e-01  1.44780919e-01  2.61982325e-02  1.22238010e-01\n",
            "  1.61081806e-01 -8.24994519e-02 -2.62260921e-02  1.13906451e-01\n",
            "  2.47419029e-01  8.57679397e-02 -1.04208142e-02  1.13211805e-02\n",
            " -1.67034730e-01 -2.26016000e-01 -1.49370879e-02  1.76304951e-01\n",
            " -1.41990290e-03  2.01474018e-02  1.89876169e-01  3.07975382e-01\n",
            "  7.46171772e-02 -1.47969633e-01 -3.28390263e-02  8.42370465e-02\n",
            "  1.21962661e-02 -5.07738143e-02  1.59365445e-01 -7.19816387e-02\n",
            " -5.22093661e-02  8.15249979e-02 -1.55073911e-01 -1.05681811e-02\n",
            "  8.00332725e-02 -1.61067352e-01  1.61134288e-01 -4.52299155e-02\n",
            "  6.08492754e-02 -1.67997643e-01 -2.93040462e-02  1.32381380e-01]\n",
            "calculated embedding: [ 5.77830411e-02  1.94456354e-01 -2.19950899e-01 -3.78643535e-02\n",
            "  9.56407264e-02  4.53359969e-02  8.85836128e-03 -1.45602450e-01\n",
            " -4.53000925e-02  2.39745450e+00 -2.43452176e-01 -1.15168363e-01\n",
            "  7.67919049e-02 -3.75229083e-02 -3.66774261e-01 -2.93011479e-02\n",
            " -1.47375271e-01  1.11763370e+00 -1.02154732e-01 -1.30321989e-02\n",
            " -3.26862708e-02  1.12621538e-01 -8.88800062e-03 -4.74057309e-02\n",
            "  5.76359145e-02 -2.09286213e-02 -2.14628633e-02 -1.40165001e-01\n",
            "  1.13103099e-01 -4.19531800e-02 -1.00099802e-01 -1.27693549e-01\n",
            " -6.14572596e-03  2.54744720e-02  8.97536427e-02  3.00560016e-02\n",
            "  7.57170990e-02  6.76214546e-02 -1.65086001e-01 -7.52437711e-02\n",
            "  1.71010010e-02 -2.83627287e-02 -8.08163583e-02  5.34527265e-02\n",
            "  2.79981866e-02  1.70090809e-01 -1.20148748e-01 -4.45693620e-02\n",
            " -1.18348815e-01 -6.59102127e-02 -1.07713267e-01  7.12039992e-02\n",
            "  1.02204541e-02  1.63156196e-01  3.67557406e-02  4.25188988e-02\n",
            " -7.49495476e-02 -7.51049966e-02 -3.92942689e-02 -7.31116310e-02\n",
            " -7.58016407e-02 -1.53665036e-01 -7.58426413e-02  1.45814538e-01\n",
            "  1.39052555e-01 -1.99691840e-02  3.19267809e-02  2.16017440e-01\n",
            "  1.60258133e-02  2.11663008e-01  1.29430652e-01  1.45465434e-02\n",
            "  2.75215894e-01 -3.38761769e-02  2.39774603e-02  1.34591851e-02\n",
            "  8.93220603e-02 -4.04253602e-02 -1.21790081e-01  2.81314641e-01\n",
            "  1.71319470e-01  9.96569917e-02 -6.07244521e-02  7.92801008e-03\n",
            "  7.88530931e-02 -5.62324524e-02  2.09131196e-01 -1.77664891e-01\n",
            "  1.87249988e-01  5.21639027e-02 -1.16070040e-01  1.21415980e-01\n",
            " -1.88078448e-01 -1.19548365e-01  9.60018113e-02 -4.38139103e-02\n",
            "  2.32090964e-03 -1.32953092e-01  8.41478705e-02  1.85054868e-01\n",
            " -8.41945037e-03 -2.99953651e-02  7.55881984e-03 -9.90392864e-02\n",
            "  7.50173628e-02 -5.58121324e-01  1.22538276e-01 -1.34616550e-02\n",
            "  3.80059145e-02  4.47868183e-02  4.05188203e-02 -2.27690279e-01\n",
            "  1.86875820e-01  5.14365472e-02  1.93801820e-01 -3.64411809e-02\n",
            " -1.44557301e-02 -5.25446385e-02  2.81055402e-02  1.81131884e-02\n",
            "  1.36125743e-01 -2.71609947e-02  1.64977228e-03 -8.94663334e-02\n",
            " -7.60962889e-02  9.75233540e-02 -8.70600343e-03 -1.89308658e-01\n",
            " -2.01377291e-02 -1.95053622e-01  8.55110958e-02 -6.78581819e-02\n",
            "  6.33580908e-02 -1.04210012e-01  8.33785534e-03 -8.84336513e-03\n",
            "  7.29555786e-02  3.47474553e-02 -4.32326384e-02 -3.76250595e-02\n",
            " -1.72876632e+00 -3.99908703e-03  2.39697650e-01 -9.18780044e-02\n",
            " -2.08243653e-02 -1.48534998e-01 -1.85276210e-01 -3.39964591e-02\n",
            "  3.64831835e-02 -5.29532693e-02 -1.70573100e-01  1.33184642e-01\n",
            "  5.06642908e-02 -1.11329272e-01 -5.35878167e-02 -1.18754603e-01\n",
            "  2.14977264e-02  7.34829009e-02  6.99280053e-02 -1.67445555e-01\n",
            " -2.42386729e-01  6.83415532e-02  2.06939504e-02 -6.72362046e-04\n",
            "  1.20769568e-01 -1.90180823e-01  2.52816360e-02 -5.28243557e-02\n",
            "  2.73993820e-01  3.08701806e-02  6.67453604e-03 -3.34038176e-02\n",
            " -1.81572617e-03 -1.70713007e-01 -1.31287863e-02  9.71101001e-02\n",
            " -7.00697303e-02  1.47352424e-02 -9.59532708e-02  4.13172506e-02\n",
            " -4.61540855e-02 -1.29487813e-01 -1.83645815e-01 -6.30893409e-02\n",
            " -7.71036446e-02  7.90366810e-03  5.18748956e-03  8.91946331e-02\n",
            "  3.44340913e-02 -3.21366377e-02 -3.08750924e-02  4.77984548e-02\n",
            " -1.63953856e-01  3.89653980e-03 -4.24803644e-02  9.74003598e-02\n",
            "  5.23957275e-02 -8.01101923e-02 -8.79954547e-02  6.12446330e-02\n",
            " -3.98226343e-02 -3.16522792e-02 -7.91558996e-02 -1.51726389e-02\n",
            "  2.19831899e-01 -1.16004497e-02 -2.59728972e-02 -6.55533299e-02\n",
            "  7.10451603e-02  1.31500848e-02 -9.51937363e-02 -1.72458276e-01\n",
            " -5.34484498e-02 -1.76113456e-01 -6.88379258e-03  1.34982362e-01\n",
            " -1.33643910e-01 -1.31464005e-01 -1.90599099e-01  3.11936382e-02\n",
            " -9.91306379e-02 -8.06855857e-02 -7.12927282e-02  1.50225461e-01\n",
            "  4.54660021e-02 -6.76870942e-02  6.99320715e-03  1.03146367e-01\n",
            " -2.00237855e-02  1.05326630e-01  2.77101826e-02  4.09435891e-02\n",
            "  6.43917769e-02  8.79969969e-02  5.44019565e-02 -1.15093820e-01\n",
            " -3.51989083e-02 -1.92908093e-01 -1.69472903e-01  2.49583095e-01\n",
            "  1.08928911e-01  1.09352827e-01 -6.13416098e-02  1.68795913e-01\n",
            " -1.93802733e-02 -1.37902275e-01 -1.17174223e-01 -9.32242796e-02\n",
            " -9.72017497e-02  5.91333658e-02 -1.08551003e-01 -1.68897539e-01\n",
            " -1.18406983e-02  3.81493033e-03  2.55680457e-02  3.11935812e-01\n",
            "  5.55644147e-02 -1.61560282e-01 -4.84270900e-02  4.29910049e-02\n",
            "  1.38611004e-01  1.44780919e-01  2.61982325e-02  1.22238010e-01\n",
            "  1.61081806e-01 -8.24994519e-02 -2.62260921e-02  1.13906451e-01\n",
            "  2.47419029e-01  8.57679397e-02 -1.04208142e-02  1.13211805e-02\n",
            " -1.67034730e-01 -2.26016000e-01 -1.49370879e-02  1.76304951e-01\n",
            " -1.41990290e-03  2.01474018e-02  1.89876169e-01  3.07975382e-01\n",
            "  7.46171772e-02 -1.47969633e-01 -3.28390263e-02  8.42370465e-02\n",
            "  1.21962661e-02 -5.07738143e-02  1.59365445e-01 -7.19816387e-02\n",
            " -5.22093661e-02  8.15249979e-02 -1.55073911e-01 -1.05681811e-02\n",
            "  8.00332725e-02 -1.61067352e-01  1.61134288e-01 -4.52299155e-02\n",
            "  6.08492754e-02 -1.67997643e-01 -2.93040462e-02  1.32381380e-01]\n",
            "Success!\n",
            "text: ['thing', 'still', 'text', 'enjoy', 'here', 'then', 'dun', 'anything', 'guy', 'weekly']\n",
            "Success!\n",
            "text: ['vouchers', 'sleep', 'who', 'some', 'aight', 'little', 'full', 'as', 'leave', 'shopping']\n",
            "Success!\n",
            "text: ['bed', 'use', 'messages', 'my', 'am', 'last', 'morning', 'never', 'cool', 'name']\n",
            "Success!\n",
            "text: ['show', 'wan', 'word', 'wat', 'part', 'on', 'find', '1000', 'apply', 'hello']\n",
            "Success!\n",
            "text: ['beautiful', 'actually', 'gt', 'just', 'full', 'without', 'back', 'sms', '150ppm', 'cost']\n",
            "Success!\n",
            "text: ['speak', 'let', 'around', 'much', 'room', 'yo', 'ok', 'half', 'coming', 'cost']\n",
            "Success!\n",
            "text: ['he', 'word', 'dis', 'heart', 'make', 'while', 'tmr', 'why', 'getting', 'many']\n",
            "Success!\n",
            "text: ['pick', 'dun', 'after', 'music', 'xxx', 'know', 'being', 'big', 'pick', 'service']\n",
            "Success!\n",
            "text: ['gud', 'much', 'didnt', 'next', 'txt', 'ready', 'for', 'want', 'driving', 'friends']\n",
            "Success!\n",
            "text: ['xxx', 'stuff', 'win', 'mobile', 'da', 'to', 'than', 'offer', 'lot', 'guy']\n",
            "Success!\n",
            "text: ['ask', 'without', 'got', 'love', 'always', 'school', 'one', 'those', 'thk', 'able']\n",
            "Success!\n",
            "text: ['pain', 'tell', 'out', 'are', 'guaranteed', 'again', 'person', 'messages', 'years', 'them']\n",
            "Success!\n",
            "text: ['everything', 'weekly', 'sleep', 'why', 'face', 'com', 'say', 'phone', 'next', 'it']\n",
            "Success!\n",
            "text: ['walk', 'ready', 'bed', 'free', 'haven', 'bored', 'hear', 'dreams', 'first', 'over']\n",
            "Success!\n"
          ]
        }
      ]
    },
    {
      "cell_type": "code",
      "source": [
        "# This might take around 1 minute to run\n",
        "X_train_spacy = np.vstack([get_document_embedding_from_spacy(x) for x in X_train])\n",
        "X_valid_spacy = np.vstack([get_document_embedding_from_spacy(x) for x in X_val])\n",
        "logreg_w2v = LogisticRegression(random_state=1, max_iter=1000).fit(X_train_spacy, y_train)\n",
        "print(f\" Logistic Regression on Word2Vec embedding; accuracy on validation data: {accuracy_score(y_val , logreg_w2v.predict(X_valid_spacy))}\")"
      ],
      "metadata": {
        "id": "wsTeOHpY2g0w",
        "colab": {
          "base_uri": "https://localhost:8080/"
        },
        "outputId": "25c5e727-97b4-4c03-b45e-aa04ac06c3ed"
      },
      "execution_count": null,
      "outputs": [
        {
          "output_type": "stream",
          "name": "stdout",
          "text": [
            " Logistic Regression on Word2Vec embedding; accuracy on validation data: 0.9677033492822966\n"
          ]
        }
      ]
    },
    {
      "cell_type": "markdown",
      "source": [
        "### Q2.f.b [2 points] Implement the function get_document_embedding_from_spacy_alt below to return the document embedding based on the token vectors.\n",
        "\n",
        "Feel free to let your imagination run, or go with simplicity. Don't use the average as above. Feel free to play around and see what works and what doesn't."
      ],
      "metadata": {
        "id": "CUgPJT303570"
      }
    },
    {
      "cell_type": "code",
      "source": [
        "from collections import Counter\n",
        "\n",
        "def get_document_embedding_from_spacy_alt(text:str) -> np.ndarray:\n",
        "  \"\"\"\n",
        "  returns the embedding vector representing the entire text by whatever means you\n",
        "  would like based on the token level embeddings\n",
        "  \"\"\"\n",
        "  tokens = spacy_pipeline(text)\n",
        "  # filters out symbols, numbers, and others\n",
        "  filter = ['SYM', 'NUM', 'X']\n",
        "\n",
        "  vectors = []\n",
        "  for token in tokens:\n",
        "    if token.pos_ not in filter:\n",
        "      vectors.append(token.vector)\n",
        "  \n",
        "  document_embedding = np.max(vectors, axis=0)\n",
        "\n",
        "  return document_embedding"
      ],
      "metadata": {
        "id": "4PK2CpdcuOil"
      },
      "execution_count": null,
      "outputs": []
    },
    {
      "cell_type": "code",
      "source": [
        "# This might take around a 1 minute\n",
        "X_train_spacy_alt = np.vstack([get_document_embedding_from_spacy_alt(x) for x in X_train])\n",
        "X_valid_spacy_alt = np.vstack([get_document_embedding_from_spacy_alt(x) for x in X_val])\n",
        "logreg_w2v_alt = LogisticRegression(random_state=1, max_iter=1000).fit(X_train_spacy_alt, y_train)\n",
        "print(f\" Logistic Regression on Word2Vec alternative embedding; accuracy on validation data: {accuracy_score(y_val , logreg_w2v_alt.predict(X_valid_spacy_alt))}\")"
      ],
      "metadata": {
        "id": "UrgKFCLjp2ko",
        "colab": {
          "base_uri": "https://localhost:8080/"
        },
        "outputId": "6f5525b5-e5b5-4f23-f0a3-1c09f18291ba"
      },
      "execution_count": null,
      "outputs": [
        {
          "output_type": "stream",
          "name": "stdout",
          "text": [
            " Logistic Regression on Word2Vec alternative embedding; accuracy on validation data: 0.9748803827751196\n"
          ]
        }
      ]
    },
    {
      "cell_type": "markdown",
      "source": [
        "## Combining Embeddings [Free]"
      ],
      "metadata": {
        "id": "IzxBMiHBvaum"
      }
    },
    {
      "cell_type": "code",
      "source": [
        "X_train_combined = np.hstack((X_train_spacy, vectorized_data_auto.toarray()))\n",
        "X_val_combined = np.hstack((X_valid_spacy, vectorizer_auto.transform(X_val).toarray()))\n",
        "logreg_combined = LogisticRegression(random_state=1, max_iter=1000).fit(X_train_combined, y_train)\n",
        "print(f\" Logistic Regression on combined W2V and BoW embeddings; accuracy on validation data: {logreg_combined.score(X_val_combined, y_val)}\")"
      ],
      "metadata": {
        "id": "eMx3NlAquqMG",
        "colab": {
          "base_uri": "https://localhost:8080/"
        },
        "outputId": "d546bdd6-779c-40c9-d082-81fe03f02d9a"
      },
      "execution_count": null,
      "outputs": [
        {
          "output_type": "stream",
          "name": "stdout",
          "text": [
            " Logistic Regression on combined W2V and BoW embeddings; accuracy on validation data: 0.9832535885167464\n"
          ]
        }
      ]
    },
    {
      "cell_type": "markdown",
      "source": [
        "##[2 points] Q2.g Transformer Model\n",
        "\n",
        "Below we will be using embeddings produced by a \"Transformer\" model (we will learn more about these in week 12/13), for the embedding of each token, it aims to incorporate not only the meaning of the token, but also the specific context in which it occurs here, with the context being a fixed window of size 512."
      ],
      "metadata": {
        "id": "kN4fRAjfxioQ"
      }
    },
    {
      "cell_type": "code",
      "source": [
        "from transformers import AutoTokenizer, AutoModelForSequenceClassification\n",
        "\n",
        "tokenizer = AutoTokenizer.from_pretrained(\"mrm8488/bert-tiny-finetuned-sms-spam-detection\") # This model has been trained on this data\n",
        "\n",
        "model = AutoModelForSequenceClassification.from_pretrained(\"mrm8488/bert-tiny-finetuned-sms-spam-detection\", output_hidden_states = True)"
      ],
      "metadata": {
        "id": "fWudJJ2Qxhxn"
      },
      "execution_count": null,
      "outputs": []
    },
    {
      "cell_type": "markdown",
      "source": [
        "### Q2.g.a [2 points] Finish the implementation of get_embedding_from_transformer to produce a document level embedding given some text. "
      ],
      "metadata": {
        "id": "1F6WNlHq57yJ"
      }
    },
    {
      "cell_type": "code",
      "source": [
        "def get_embedding_from_transformer(text:str) -> np.ndarray:\n",
        "  \"\"\"\n",
        "  Returns an embedding from a transformer model produced by averaging the token level embeddings\n",
        "  \"\"\"\n",
        "  tokenized = tokenizer([text])\n",
        "  for key, value in tokenized.items():\n",
        "    tokenized[key] = torch.LongTensor(value)\n",
        "  with torch.no_grad():\n",
        "    token_embeddings = model.forward(**tokenized)[\"hidden_states\"][0].numpy()[0]\n",
        "  # print(token_embeddings.shape)\n",
        "  document_embedding = np.mean(token_embeddings, axis=0)\n",
        "  return document_embedding"
      ],
      "metadata": {
        "id": "u49GVcFtxsV4"
      },
      "execution_count": null,
      "outputs": []
    },
    {
      "cell_type": "code",
      "source": [
        "# JUST SOME TESTING THAT IT RUNS AND PRODUCES THE RIGHT SIZE\n",
        "for e in [get_embedding_from_transformer(x) for x in X_train[:3]]:\n",
        "  assert e.shape == (128,)"
      ],
      "metadata": {
        "id": "e2zZOpJb6ZNt"
      },
      "execution_count": null,
      "outputs": []
    },
    {
      "cell_type": "code",
      "source": [
        "# This might take around a 1 minute\n",
        "X_train_transformer = np.vstack([get_embedding_from_transformer(x) for x in X_train])\n",
        "X_valid_transformer = np.vstack([get_embedding_from_transformer(x) for x in X_val])\n",
        "logreg_transformer = LogisticRegression(random_state=1, max_iter=1000).fit(X_train_transformer, y_train)\n",
        "print(f\" Logistic Regression on Transformer embedding accuracy on validation: {logreg_transformer.score(X_valid_transformer, y_val)}\")"
      ],
      "metadata": {
        "id": "RQ_EvOXAylxs",
        "colab": {
          "base_uri": "https://localhost:8080/"
        },
        "outputId": "94173b17-3666-4cec-ee20-43f0f45cb9dd"
      },
      "execution_count": null,
      "outputs": [
        {
          "output_type": "stream",
          "name": "stdout",
          "text": [
            " Logistic Regression on Transformer embedding accuracy on validation: 0.9844497607655502\n"
          ]
        }
      ]
    },
    {
      "cell_type": "markdown",
      "source": [
        "## Q2.h [3 points] Which spam detection method worked best? Why do you think that is? What are some considerations you would need to make to use this model in practice? "
      ],
      "metadata": {
        "id": "RLt2Q4iWfeP9"
      }
    },
    {
      "cell_type": "markdown",
      "source": [
        "The transformer model worked best. This is because contextual information is important in language models, and words can refer to different things in different contexts. Some considerations are how the text is split when feeding it to the model. A sentence can have drastically different meanings depending on the way that it is split, which can affect the context that this method depends on. "
      ],
      "metadata": {
        "id": "P5LEwqxPpz_P"
      }
    }
  ]
}